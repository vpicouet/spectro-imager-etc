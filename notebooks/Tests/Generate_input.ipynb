{
 "cells": [
  {
   "cell_type": "code",
   "execution_count": null,
   "metadata": {},
   "outputs": [],
   "source": [
    "# from datetime import datetime\n",
    "# from pwv_kpno import pwv_atm\n",
    "# import pytz\n",
    "# # plt.figure()\n",
    "# #     a = pwv_atm.trans_for_pwv(p)\n",
    "# # for p in [0.86,13]:\n",
    "# a = pwv_atm.trans_for_pwv(3)\n",
    "# a[\"wave_microns\"] = a[\"wavelength\"]/1000\n",
    "# a[\"wave_microns\",\"transmission\"][::5].write(\"/Users/Vincent/Github/fireball2-etc/notebooks/interpolate/pwv_atm.csv\",overwrite=True)\n",
    "# #     plt.plot(a[\"wavelength\"],a[\"transmission\"])\n",
    "# # plt.show()\n"
   ]
  },
  {
   "cell_type": "code",
   "execution_count": null,
   "metadata": {},
   "outputs": [],
   "source": [
    " \n",
    "# import numpy as np\n",
    "# import matplotlib.pyplot as plt\n",
    "# from scipy.stats import norm\n",
    "\n",
    "# # Function to generate a sky spectrum\n",
    "# def generate_sky_spectrum(sky_table, wavelength, dispersion, n1, sky_flux=1E-16):\n",
    "#     # Define the wavelength range\n",
    "#     wavelength_range = np.linspace(\n",
    "#         10*wavelength - dispersion * n1 / 2,\n",
    "#         10*wavelength + dispersion * n1 / 2,\n",
    "#         n1\n",
    "#     )\n",
    "#     mask = (sky_table[\"CENTER\"] >= wavelength*10 - dispersion * n1 / 2) & (sky_table[\"CENTER\"] <= wavelength*10 + dispersion * n1 / 2) # & (sky_table[\"FLUX\"] >0)  & (sky_table[\"FWHM\"] >0)\n",
    "#     print(\"%i lines in the total number of lines: %i\"%(len(sky_table[mask]),len(sky_table)))\n",
    "#     sky_table = sky_table[mask]\n",
    "\n",
    "#     # Generate sky spectrum based on emission lines\n",
    "#     sky_spectrum = np.zeros_like(wavelength_range)\n",
    "    \n",
    "#     # Loop over each emission line and add the Gaussian to the spectrum\n",
    "#     for line in sky_table:\n",
    "#         center, fwhm, flux = line[\"CENTER\"],  line[\"FWHM\"], line[\"FLUX\"]\n",
    "#         sigma = fwhm / (2 * np.sqrt(2 * np.log(2)))  # Convert FWHM to sigma\n",
    "#         gaussian = norm.pdf(wavelength_range, center, sigma) * flux\n",
    "#         # print(np.max(gaussian))\n",
    "#         # Add Gaussian contribution to the total sky spectrum\n",
    "#         sky_spectrum += gaussian\n",
    "    \n",
    "#     # Scale by the sky flux\n",
    "#     scale_factor = sky_flux / 1E-16  # Normalize to 1E-16\n",
    "#     sky_spectrum *= scale_factor\n",
    "    \n",
    "#     return wavelength_range, sky_spectrum\n",
    "\n",
    "# # Example emission lines data (replace with your table data)\n",
    "# sky_table = Table.read(\"/Users/Vincent/Github/fireball2-etc/notebooks/Sky_emission_lines/Lines_desciption.csv\")\n",
    "\n",
    "# # Parameters\n",
    "# wavelength = 315  # Central wavelength in Angstroms\n",
    "# dispersion = 0.1   # Dispersion in Angstroms/pixel\n",
    "# n1 = 200          # Number of points\n",
    "# sky_flux = 1E-16   # Desired total sky flux\n",
    "\n",
    "# # Generate sky spectrum\n",
    "# wavelength_range, sky_spectrum = generate_sky_spectrum(sky_table, wavelength, dispersion, n1, sky_flux)\n",
    "# # print(wavelength_range, sky_spectrum)\n",
    "# # Plot the sky spectrum\n",
    "# plt.figure(figsize=(10, 6))\n",
    "# plt.plot(wavelength_range, sky_spectrum, label='Sky Spectrum')\n",
    "# plt.xlabel('Wavelength (Angstroms)')\n",
    "# plt.ylabel('Flux (1E-16 erg/s/A/cm^2/arcsec^2)')\n",
    "# plt.title('Generated Sky Spectrum')\n",
    "# plt.legend()\n",
    "# plt.grid(True)\n",
    "# plt.show()"
   ]
  },
  {
   "cell_type": "code",
   "execution_count": null,
   "metadata": {},
   "outputs": [],
   "source": [
    "# values = [instrument]+[ instruments[instrument][instruments[\"Charact.\"]==field][0] for field in [\"FOV\",\"wavelength\",\"Throughput\",\"Atmosphere\",\"pixel_scale\",\"area\"]]\n",
    "# f'Instrument=1'+ f'FOV=%s, λ=%iÅ, Throughput=%i%%, Atm=%i%%, Platescale=%.1f, area=%icm2'%(*[ float(instruments[instrument][instruments[\"Charact.\"]==field][0]) for field in [\"FOV size\",\"wavelength\",\"Throughput\",\"Atmosphere\",\"pixel_scale\",\"area\"]])\n",
    "# # tab = Table.from_pandas(instruments)\n",
    "# # instrument = \"FIREBall-2\"\n",
    "# # for i in range(len(tab)):\n",
    "# #     print(tab[\"Charact.\"][i], tab[instrument][i])"
   ]
  },
  {
   "cell_type": "code",
   "execution_count": null,
   "metadata": {},
   "outputs": [],
   "source": [
    "# a=Table(names=[\"Charact.\"] + [key for key in instruments.keys()],dtype=[str]*(len(instruments)+1))\n",
    "\n",
    "# for key in instruments[\"FIREBall-2\"].keys():\n",
    "#     row = [key] + [str(instruments[keyi][key]) for keyi in instruments.keys()]\n",
    "#     print(row)\n",
    "#     a.add_row(row)\n",
    "#     # for keyi in instruments.keys():\n",
    "# a.write(\"/Users/Vincent/Github/fireball2-etc/instruments.csv\")\n",
    "# # ={\"FIREBall-2\":FIREBall,\"CHaS\":CHaS,\"KCWI-red\":KCWI_red,\"KCWI-blue\":KCWI_blue,\"FIREBall-2 2018\":FIREBall_2018}\n"
   ]
  },
  {
   "cell_type": "code",
   "execution_count": null,
   "metadata": {},
   "outputs": [],
   "source": [
    "# instruments_dict={}\n",
    "# for inst in instruments.colnames[1:]:\n",
    "#     instruments_dict = +{inst:{key:val for key, val in zip(instruments[\"Charact.\"],instruments[inst])}} \n",
    "\n",
    "# instruments_dict"
   ]
  },
  {
   "cell_type": "code",
   "execution_count": null,
   "metadata": {},
   "outputs": [],
   "source": []
  }
 ],
 "metadata": {
  "language_info": {
   "name": "python"
  }
 },
 "nbformat": 4,
 "nbformat_minor": 2
}
